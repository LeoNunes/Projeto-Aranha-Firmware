{
 "cells": [
  {
   "cell_type": "markdown",
   "metadata": {},
   "source": [
    "## Projeto Aranha\n",
    "\n",
    "### Testando a cinemática reversa"
   ]
  },
  {
   "cell_type": "code",
   "execution_count": 7,
   "metadata": {},
   "outputs": [],
   "source": [
    "from math import cos, sin, pi, sqrt, atan2, acos\n",
    "\n",
    "d1 = 27.5\n",
    "d2 = 55\n",
    "d3 = 77.5"
   ]
  },
  {
   "cell_type": "code",
   "execution_count": 53,
   "metadata": {},
   "outputs": [],
   "source": [
    "def getCartesian(A1, A2, A3):\n",
    "    \n",
    "    angle1 = A1 / 180 * pi\n",
    "    angle2 = -A2 / 180 * pi\n",
    "    angle3 = -A3 / 180 * pi\n",
    "\n",
    "    # Tx certo = -d3 c1 s2 c3 - d3 c1 c2 s3 - d2 c1 s2 + c1 d1 \n",
    "    Tx = (-d3 * cos(angle1) * sin(angle2) * cos(angle3) -\n",
    "          d3 * cos(angle1) * cos(angle2) * sin(angle3) -\n",
    "          d2 * cos(angle1) * sin(angle2) +\n",
    "          d1 * cos(angle1))           \n",
    "    \n",
    "    #Ty certo = -d3 s1 s2 c3 - d3 s1 c2 s3 + d2 s1 s2 + d1 s1\n",
    "    Ty = (-d3 * sin(angle1) * sin(angle2) * cos(angle3) - \n",
    "          d3 * sin(angle1) * cos(angle2) * sin(angle3) +\n",
    "          d2 * sin(angle1) * sin(angle2) +\n",
    "          d1 * sin(angle1))\n",
    "\n",
    "    #Tz certo = d3 c2 c3 - d3 s2 s3 + d2 c2\n",
    "    Tz = (d3 * cos(angle2) * cos(angle3) -\n",
    "          d3 * sin(angle2) * sin(angle3) +\n",
    "          d2 * cos(angle2))\n",
    "\n",
    "    return (Tx, Ty, Tz)"
   ]
  },
  {
   "cell_type": "code",
   "execution_count": 64,
   "metadata": {},
   "outputs": [],
   "source": [
    "length_a = 55\n",
    "length_b = 77.5\n",
    "length_c = 27.5\n",
    "\n",
    "def getAngles(x, y, z):\n",
    "\n",
    "    # calculate w-z degree\n",
    "    #float v, w;\n",
    "    w = (1 if x >= 0 else -1) * (sqrt(pow(x, 2) + pow(y, 2)))\n",
    "    v = w - length_c\n",
    "    \n",
    "    alpha = atan2(z, v) + acos((pow(length_a, 2) - pow(length_b, 2) + pow(v, 2) + pow(z, 2)) / 2 / length_a / sqrt(pow(v, 2) + pow(z, 2)))\n",
    "    beta = acos((pow(length_a, 2) + pow(length_b, 2) - pow(v, 2) - pow(z, 2)) / 2 / length_a / length_b)\n",
    "    #calculate x-y-z degree\n",
    "    gamma = atan2(y, x) if w >= 0 else atan2(-y, -x)\n",
    "    \n",
    "    #trans degree pi->180\n",
    "    alpha = alpha / pi * 180\n",
    "    beta = beta / pi * 180\n",
    "    gamma = gamma / pi * 180\n",
    "\n",
    "    #corrections (?)\n",
    "    beta = 180 - beta\n",
    "    alpha = 90 - alpha\n",
    "\n",
    "    #return (alpha,beta,gamma)\n",
    "    return (gamma, alpha, beta)"
   ]
  },
  {
   "cell_type": "code",
   "execution_count": 68,
   "metadata": {},
   "outputs": [
    {
     "name": "stdout",
     "output_type": "stream",
     "text": [
      "25 25 25  -  99.79576974043326 26.88885021419657 99.66296803772255  -  15.079600091294614 14.526801861104559 38.67599884406218\n"
     ]
    }
   ],
   "source": [
    "A1 = 0 #25 dá ruim\n",
    "A2 = 25\n",
    "A3 = 25\n",
    "\n",
    "(C1, C2, C3) = getCartesian(A1, A2, A3)\n",
    "(FA1, FA2, FA3) = getAngles(C1, C2, C3)\n",
    "\n",
    "print(A1, A2, A3, \" - \", C1, C2, C3, \" - \", FA1, FA2, FA3)"
   ]
  },
  {
   "cell_type": "code",
   "execution_count": null,
   "metadata": {},
   "outputs": [],
   "source": [
    "for A1 in range(0, 181):\n",
    "    for A2 in range(0, 181):\n",
    "        for A3 in range(0, 181):\n",
    "            checkForAngles(A1, A2, A3)\n",
    "            # print(A1, A2, A3)\n"
   ]
  }
 ],
 "metadata": {
  "kernelspec": {
   "display_name": "Python 3.10.6 64-bit (windows store)",
   "language": "python",
   "name": "python3"
  },
  "language_info": {
   "codemirror_mode": {
    "name": "ipython",
    "version": 3
   },
   "file_extension": ".py",
   "mimetype": "text/x-python",
   "name": "python",
   "nbconvert_exporter": "python",
   "pygments_lexer": "ipython3",
   "version": "3.10.6"
  },
  "orig_nbformat": 4,
  "vscode": {
   "interpreter": {
    "hash": "a30343d8d0e6c1a63eb34c6277766d715d00494db238f5f72a779190013faf1c"
   }
  }
 },
 "nbformat": 4,
 "nbformat_minor": 2
}
